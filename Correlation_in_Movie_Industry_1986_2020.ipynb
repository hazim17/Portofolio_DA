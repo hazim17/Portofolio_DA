{
  "nbformat": 4,
  "nbformat_minor": 0,
  "metadata": {
    "colab": {
      "name": "Correlation in Movie Industry 1986-2020 ",
      "provenance": [],
      "collapsed_sections": [],
      "mount_file_id": "1rZTkv4F3ywRuKcUv5QxMHdBrphRWQWZC",
      "authorship_tag": "ABX9TyOpf0hn3pC7yaoDPZqTMKUr",
      "include_colab_link": true
    },
    "kernelspec": {
      "name": "python3",
      "display_name": "Python 3"
    },
    "language_info": {
      "name": "python"
    }
  },
  "cells": [
    {
      "cell_type": "markdown",
      "metadata": {
        "id": "view-in-github",
        "colab_type": "text"
      },
      "source": [
        "<a href=\"https://colab.research.google.com/github/hazim17/Portofolio_DA/blob/main/Correlation_in_Movie_Industry_1986_2020.ipynb\" target=\"_parent\"><img src=\"https://colab.research.google.com/assets/colab-badge.svg\" alt=\"Open In Colab\"/></a>"
      ]
    },
    {
      "cell_type": "markdown",
      "metadata": {
        "id": "IRfAv3FnxRnB"
      },
      "source": [
        "# Introduction\n",
        "\n",
        "In this project, we want to analyze the movie Industry is dying or not, or else. This dataset will contain movies around the world from 1986 - 2020.\n",
        "\n",
        "I got the data from Kaggle: \n",
        "https://www.kaggle.com/danielgrijalvas/movies"
      ]
    },
    {
      "cell_type": "markdown",
      "metadata": {
        "id": "2dbk_q-wyH5T"
      },
      "source": [
        "# Import the Library & read the data"
      ]
    },
    {
      "cell_type": "code",
      "metadata": {
        "id": "22B2gEO-v3yo"
      },
      "source": [
        "# import libraries\n",
        "\n",
        "import pandas as pd\n",
        "import numpy as np\n",
        "import seaborn as sns\n",
        "\n",
        "import matplotlib\n",
        "import matplotlib.pyplot as plt\n",
        "plt.style.use('ggplot')\n",
        "from matplotlib.pyplot import figure\n",
        "\n",
        "%matplotlib inline\n",
        "# Adjust the configuration of the plots we will create\n",
        "matplotlib.rcParams['figure.figsize'] = (12, 8)"
      ],
      "execution_count": 1,
      "outputs": []
    },
    {
      "cell_type": "code",
      "metadata": {
        "colab": {
          "base_uri": "https://localhost:8080/"
        },
        "id": "4UHm969BzWsH",
        "outputId": "daf54299-f061-404b-8134-5f9ae75bb1c1"
      },
      "source": [
        "# Load the Drive helper and mount\n",
        "from google.colab import drive\n",
        "\n",
        "# This will prompt for authorization.\n",
        "drive.mount('/content/drive')"
      ],
      "execution_count": null,
      "outputs": [
        {
          "output_type": "stream",
          "name": "stdout",
          "text": [
            "Drive already mounted at /content/drive; to attempt to forcibly remount, call drive.mount(\"/content/drive\", force_remount=True).\n"
          ]
        }
      ]
    },
    {
      "cell_type": "code",
      "metadata": {
        "id": "uj_90huszGjr"
      },
      "source": [
        "# read the data\n",
        "path = '/content/drive/MyDrive/data_anal_project/movie_industry/movies.csv'\n",
        "df = pd.read_csv(path)"
      ],
      "execution_count": 33,
      "outputs": []
    },
    {
      "cell_type": "markdown",
      "metadata": {
        "id": "_borBQ1X1utw"
      },
      "source": [
        "# Look at the data"
      ]
    },
    {
      "cell_type": "code",
      "metadata": {
        "colab": {
          "base_uri": "https://localhost:8080/",
          "height": 357
        },
        "id": "_DkvjknXzHAt",
        "outputId": "5eeb8b72-f8a5-4ac6-c361-621965d6be03"
      },
      "source": [
        "df.sample(5)"
      ],
      "execution_count": 3,
      "outputs": [
        {
          "output_type": "execute_result",
          "data": {
            "text/html": [
              "<div>\n",
              "<style scoped>\n",
              "    .dataframe tbody tr th:only-of-type {\n",
              "        vertical-align: middle;\n",
              "    }\n",
              "\n",
              "    .dataframe tbody tr th {\n",
              "        vertical-align: top;\n",
              "    }\n",
              "\n",
              "    .dataframe thead th {\n",
              "        text-align: right;\n",
              "    }\n",
              "</style>\n",
              "<table border=\"1\" class=\"dataframe\">\n",
              "  <thead>\n",
              "    <tr style=\"text-align: right;\">\n",
              "      <th></th>\n",
              "      <th>name</th>\n",
              "      <th>rating</th>\n",
              "      <th>genre</th>\n",
              "      <th>year</th>\n",
              "      <th>released</th>\n",
              "      <th>score</th>\n",
              "      <th>votes</th>\n",
              "      <th>director</th>\n",
              "      <th>writer</th>\n",
              "      <th>star</th>\n",
              "      <th>country</th>\n",
              "      <th>budget</th>\n",
              "      <th>gross</th>\n",
              "      <th>company</th>\n",
              "      <th>runtime</th>\n",
              "    </tr>\n",
              "  </thead>\n",
              "  <tbody>\n",
              "    <tr>\n",
              "      <th>6657</th>\n",
              "      <td>Inside Out</td>\n",
              "      <td>PG</td>\n",
              "      <td>Animation</td>\n",
              "      <td>2015</td>\n",
              "      <td>June 19, 2015 (United States)</td>\n",
              "      <td>8.1</td>\n",
              "      <td>641000.0</td>\n",
              "      <td>Pete Docter</td>\n",
              "      <td>Pete Docter</td>\n",
              "      <td>Amy Poehler</td>\n",
              "      <td>United States</td>\n",
              "      <td>175000000.0</td>\n",
              "      <td>858848019.0</td>\n",
              "      <td>Pixar Animation Studios</td>\n",
              "      <td>95.0</td>\n",
              "    </tr>\n",
              "    <tr>\n",
              "      <th>786</th>\n",
              "      <td>Taipei Story</td>\n",
              "      <td>Not Rated</td>\n",
              "      <td>Drama</td>\n",
              "      <td>1985</td>\n",
              "      <td>1985 (Taiwan)</td>\n",
              "      <td>7.7</td>\n",
              "      <td>2500.0</td>\n",
              "      <td>Edward Yang</td>\n",
              "      <td>T'ien-wen Chu</td>\n",
              "      <td>Chin Tsai</td>\n",
              "      <td>Taiwan</td>\n",
              "      <td>NaN</td>\n",
              "      <td>35336.0</td>\n",
              "      <td>Evergreen Film Company</td>\n",
              "      <td>119.0</td>\n",
              "    </tr>\n",
              "    <tr>\n",
              "      <th>5733</th>\n",
              "      <td>Leap Year</td>\n",
              "      <td>PG</td>\n",
              "      <td>Comedy</td>\n",
              "      <td>2010</td>\n",
              "      <td>January 8, 2010 (United States)</td>\n",
              "      <td>6.5</td>\n",
              "      <td>99000.0</td>\n",
              "      <td>Anand Tucker</td>\n",
              "      <td>Deborah Kaplan</td>\n",
              "      <td>Amy Adams</td>\n",
              "      <td>United States</td>\n",
              "      <td>19000000.0</td>\n",
              "      <td>32686500.0</td>\n",
              "      <td>Universal Pictures</td>\n",
              "      <td>100.0</td>\n",
              "    </tr>\n",
              "    <tr>\n",
              "      <th>899</th>\n",
              "      <td>SpaceCamp</td>\n",
              "      <td>PG</td>\n",
              "      <td>Adventure</td>\n",
              "      <td>1986</td>\n",
              "      <td>June 6, 1986 (United States)</td>\n",
              "      <td>5.7</td>\n",
              "      <td>13000.0</td>\n",
              "      <td>Harry Winer</td>\n",
              "      <td>Clifford Green</td>\n",
              "      <td>Kate Capshaw</td>\n",
              "      <td>United States</td>\n",
              "      <td>18000000.0</td>\n",
              "      <td>9697739.0</td>\n",
              "      <td>ABC Motion Pictures</td>\n",
              "      <td>107.0</td>\n",
              "    </tr>\n",
              "    <tr>\n",
              "      <th>5463</th>\n",
              "      <td>Fantastic Mr. Fox</td>\n",
              "      <td>PG</td>\n",
              "      <td>Animation</td>\n",
              "      <td>2009</td>\n",
              "      <td>November 25, 2009 (United States)</td>\n",
              "      <td>7.9</td>\n",
              "      <td>208000.0</td>\n",
              "      <td>Wes Anderson</td>\n",
              "      <td>Roald Dahl</td>\n",
              "      <td>George Clooney</td>\n",
              "      <td>United States</td>\n",
              "      <td>40000000.0</td>\n",
              "      <td>46474181.0</td>\n",
              "      <td>Twentieth Century Fox</td>\n",
              "      <td>87.0</td>\n",
              "    </tr>\n",
              "  </tbody>\n",
              "</table>\n",
              "</div>"
            ],
            "text/plain": [
              "                   name     rating  ...                  company  runtime\n",
              "6657         Inside Out         PG  ...  Pixar Animation Studios     95.0\n",
              "786        Taipei Story  Not Rated  ...   Evergreen Film Company    119.0\n",
              "5733          Leap Year         PG  ...       Universal Pictures    100.0\n",
              "899           SpaceCamp         PG  ...      ABC Motion Pictures    107.0\n",
              "5463  Fantastic Mr. Fox         PG  ...    Twentieth Century Fox     87.0\n",
              "\n",
              "[5 rows x 15 columns]"
            ]
          },
          "metadata": {},
          "execution_count": 3
        }
      ]
    },
    {
      "cell_type": "code",
      "metadata": {
        "colab": {
          "base_uri": "https://localhost:8080/"
        },
        "id": "_BIEXEr9M6By",
        "outputId": "55dc7584-8e1d-4f6d-902f-454da5d6898e"
      },
      "source": [
        "df.info()"
      ],
      "execution_count": 4,
      "outputs": [
        {
          "output_type": "stream",
          "name": "stdout",
          "text": [
            "<class 'pandas.core.frame.DataFrame'>\n",
            "RangeIndex: 7668 entries, 0 to 7667\n",
            "Data columns (total 15 columns):\n",
            " #   Column    Non-Null Count  Dtype  \n",
            "---  ------    --------------  -----  \n",
            " 0   name      7668 non-null   object \n",
            " 1   rating    7591 non-null   object \n",
            " 2   genre     7668 non-null   object \n",
            " 3   year      7668 non-null   int64  \n",
            " 4   released  7666 non-null   object \n",
            " 5   score     7665 non-null   float64\n",
            " 6   votes     7665 non-null   float64\n",
            " 7   director  7668 non-null   object \n",
            " 8   writer    7665 non-null   object \n",
            " 9   star      7667 non-null   object \n",
            " 10  country   7665 non-null   object \n",
            " 11  budget    5497 non-null   float64\n",
            " 12  gross     7479 non-null   float64\n",
            " 13  company   7651 non-null   object \n",
            " 14  runtime   7664 non-null   float64\n",
            "dtypes: float64(5), int64(1), object(9)\n",
            "memory usage: 898.7+ KB\n"
          ]
        }
      ]
    },
    {
      "cell_type": "markdown",
      "metadata": {
        "id": "lBiefgJ420VW"
      },
      "source": [
        "# Look at the missing data"
      ]
    },
    {
      "cell_type": "code",
      "metadata": {
        "colab": {
          "base_uri": "https://localhost:8080/"
        },
        "id": "pTRPALMG2ygQ",
        "outputId": "63f360e7-2d10-4d8f-8451-1460bbbd7a8f"
      },
      "source": [
        "# Find the missing data\n",
        "\n",
        "for col in df.columns:\n",
        "  pct_missing = np.mean(df[col].isnull())\n",
        "  print('{} - {}%'.format(col, pct_missing))"
      ],
      "execution_count": 5,
      "outputs": [
        {
          "output_type": "stream",
          "name": "stdout",
          "text": [
            "name - 0.0%\n",
            "rating - 0.010041731872717789%\n",
            "genre - 0.0%\n",
            "year - 0.0%\n",
            "released - 0.0002608242044861763%\n",
            "score - 0.0003912363067292645%\n",
            "votes - 0.0003912363067292645%\n",
            "director - 0.0%\n",
            "writer - 0.0003912363067292645%\n",
            "star - 0.00013041210224308815%\n",
            "country - 0.0003912363067292645%\n",
            "budget - 0.2831246739697444%\n",
            "gross - 0.02464788732394366%\n",
            "company - 0.002217005738132499%\n",
            "runtime - 0.0005216484089723526%\n"
          ]
        }
      ]
    },
    {
      "cell_type": "code",
      "metadata": {
        "colab": {
          "base_uri": "https://localhost:8080/"
        },
        "id": "ikPxasNX3DsU",
        "outputId": "38ac3ad7-6820-4a3c-d819-d8276760d388"
      },
      "source": [
        "# Find the missing data (another way)\n",
        "\n",
        "df.isnull().sum()"
      ],
      "execution_count": 6,
      "outputs": [
        {
          "output_type": "execute_result",
          "data": {
            "text/plain": [
              "name           0\n",
              "rating        77\n",
              "genre          0\n",
              "year           0\n",
              "released       2\n",
              "score          3\n",
              "votes          3\n",
              "director       0\n",
              "writer         3\n",
              "star           1\n",
              "country        3\n",
              "budget      2171\n",
              "gross        189\n",
              "company       17\n",
              "runtime        4\n",
              "dtype: int64"
            ]
          },
          "metadata": {},
          "execution_count": 6
        }
      ]
    },
    {
      "cell_type": "markdown",
      "metadata": {
        "id": "yx1iJtf-39RO"
      },
      "source": [
        "# Data cleaning"
      ]
    },
    {
      "cell_type": "code",
      "metadata": {
        "colab": {
          "base_uri": "https://localhost:8080/",
          "height": 145
        },
        "id": "q2bv9Tdx4Q2-",
        "outputId": "4830d4ea-9d68-4ea4-b508-0e53110764ae"
      },
      "source": [
        "df.head(2)"
      ],
      "execution_count": 7,
      "outputs": [
        {
          "output_type": "execute_result",
          "data": {
            "text/html": [
              "<div>\n",
              "<style scoped>\n",
              "    .dataframe tbody tr th:only-of-type {\n",
              "        vertical-align: middle;\n",
              "    }\n",
              "\n",
              "    .dataframe tbody tr th {\n",
              "        vertical-align: top;\n",
              "    }\n",
              "\n",
              "    .dataframe thead th {\n",
              "        text-align: right;\n",
              "    }\n",
              "</style>\n",
              "<table border=\"1\" class=\"dataframe\">\n",
              "  <thead>\n",
              "    <tr style=\"text-align: right;\">\n",
              "      <th></th>\n",
              "      <th>name</th>\n",
              "      <th>rating</th>\n",
              "      <th>genre</th>\n",
              "      <th>year</th>\n",
              "      <th>released</th>\n",
              "      <th>score</th>\n",
              "      <th>votes</th>\n",
              "      <th>director</th>\n",
              "      <th>writer</th>\n",
              "      <th>star</th>\n",
              "      <th>country</th>\n",
              "      <th>budget</th>\n",
              "      <th>gross</th>\n",
              "      <th>company</th>\n",
              "      <th>runtime</th>\n",
              "    </tr>\n",
              "  </thead>\n",
              "  <tbody>\n",
              "    <tr>\n",
              "      <th>0</th>\n",
              "      <td>The Shining</td>\n",
              "      <td>R</td>\n",
              "      <td>Drama</td>\n",
              "      <td>1980</td>\n",
              "      <td>June 13, 1980 (United States)</td>\n",
              "      <td>8.4</td>\n",
              "      <td>927000.0</td>\n",
              "      <td>Stanley Kubrick</td>\n",
              "      <td>Stephen King</td>\n",
              "      <td>Jack Nicholson</td>\n",
              "      <td>United Kingdom</td>\n",
              "      <td>19000000.0</td>\n",
              "      <td>46998772.0</td>\n",
              "      <td>Warner Bros.</td>\n",
              "      <td>146.0</td>\n",
              "    </tr>\n",
              "    <tr>\n",
              "      <th>1</th>\n",
              "      <td>The Blue Lagoon</td>\n",
              "      <td>R</td>\n",
              "      <td>Adventure</td>\n",
              "      <td>1980</td>\n",
              "      <td>July 2, 1980 (United States)</td>\n",
              "      <td>5.8</td>\n",
              "      <td>65000.0</td>\n",
              "      <td>Randal Kleiser</td>\n",
              "      <td>Henry De Vere Stacpoole</td>\n",
              "      <td>Brooke Shields</td>\n",
              "      <td>United States</td>\n",
              "      <td>4500000.0</td>\n",
              "      <td>58853106.0</td>\n",
              "      <td>Columbia Pictures</td>\n",
              "      <td>104.0</td>\n",
              "    </tr>\n",
              "  </tbody>\n",
              "</table>\n",
              "</div>"
            ],
            "text/plain": [
              "              name rating      genre  ...       gross            company  runtime\n",
              "0      The Shining      R      Drama  ...  46998772.0       Warner Bros.    146.0\n",
              "1  The Blue Lagoon      R  Adventure  ...  58853106.0  Columbia Pictures    104.0\n",
              "\n",
              "[2 rows x 15 columns]"
            ]
          },
          "metadata": {},
          "execution_count": 7
        }
      ]
    },
    {
      "cell_type": "code",
      "metadata": {
        "colab": {
          "base_uri": "https://localhost:8080/"
        },
        "id": "wxBbY5_H38us",
        "outputId": "82b753e0-7298-466f-efd0-cf9fa8e5275e"
      },
      "source": [
        "# look at the data type of our columns\n",
        "\n",
        "df.dtypes"
      ],
      "execution_count": 8,
      "outputs": [
        {
          "output_type": "execute_result",
          "data": {
            "text/plain": [
              "name         object\n",
              "rating       object\n",
              "genre        object\n",
              "year          int64\n",
              "released     object\n",
              "score       float64\n",
              "votes       float64\n",
              "director     object\n",
              "writer       object\n",
              "star         object\n",
              "country      object\n",
              "budget      float64\n",
              "gross       float64\n",
              "company      object\n",
              "runtime     float64\n",
              "dtype: object"
            ]
          },
          "metadata": {},
          "execution_count": 8
        }
      ]
    },
    {
      "cell_type": "code",
      "metadata": {
        "id": "yG-PWWLG4HKm"
      },
      "source": [
        "# Get rid of the 'xx.0' in the budget & gross, change from float to int\n",
        "\n",
        "# Because there's missing value in budget and gross column, \n",
        "# we have to fill it with somthing, in this case 0\n",
        "# otherwise it won't get converted\n",
        "\n",
        "df[['budget', 'gross']] = df[['budget', 'gross']].fillna(0)\n",
        "\n",
        "df['budget'] = df['budget'].astype('int64', errors='ignore')\n",
        "\n",
        "df['gross'] = df['gross'].astype('int64', errors='ignore')"
      ],
      "execution_count": 37,
      "outputs": []
    },
    {
      "cell_type": "code",
      "metadata": {
        "id": "uyT2f1vieIG1"
      },
      "source": [
        "# drop column year\n",
        "df = df.drop(\"year\", axis=1)"
      ],
      "execution_count": 36,
      "outputs": []
    },
    {
      "cell_type": "code",
      "metadata": {
        "colab": {
          "base_uri": "https://localhost:8080/",
          "height": 162
        },
        "id": "dNA9du7z6bxx",
        "outputId": "eb61d5fb-deb3-4b91-8b59-a80df9cf369a"
      },
      "source": [
        "# create new column, released_date \n",
        "cols = ['released_date']\n",
        "df[cols] =  df['released'].str.split('(', expand=True)[0]\n",
        "\n",
        "# delete the space in left & right text\n",
        "df['released_date'] = df['released_date'].str.strip()\n",
        "\n",
        "df.head(2)"
      ],
      "execution_count": 38,
      "outputs": [
        {
          "output_type": "execute_result",
          "data": {
            "text/html": [
              "<div>\n",
              "<style scoped>\n",
              "    .dataframe tbody tr th:only-of-type {\n",
              "        vertical-align: middle;\n",
              "    }\n",
              "\n",
              "    .dataframe tbody tr th {\n",
              "        vertical-align: top;\n",
              "    }\n",
              "\n",
              "    .dataframe thead th {\n",
              "        text-align: right;\n",
              "    }\n",
              "</style>\n",
              "<table border=\"1\" class=\"dataframe\">\n",
              "  <thead>\n",
              "    <tr style=\"text-align: right;\">\n",
              "      <th></th>\n",
              "      <th>name</th>\n",
              "      <th>rating</th>\n",
              "      <th>genre</th>\n",
              "      <th>released</th>\n",
              "      <th>score</th>\n",
              "      <th>votes</th>\n",
              "      <th>director</th>\n",
              "      <th>writer</th>\n",
              "      <th>star</th>\n",
              "      <th>country</th>\n",
              "      <th>budget</th>\n",
              "      <th>gross</th>\n",
              "      <th>company</th>\n",
              "      <th>runtime</th>\n",
              "      <th>released_date</th>\n",
              "    </tr>\n",
              "  </thead>\n",
              "  <tbody>\n",
              "    <tr>\n",
              "      <th>0</th>\n",
              "      <td>The Shining</td>\n",
              "      <td>R</td>\n",
              "      <td>Drama</td>\n",
              "      <td>June 13, 1980 (United States)</td>\n",
              "      <td>8.4</td>\n",
              "      <td>927000.0</td>\n",
              "      <td>Stanley Kubrick</td>\n",
              "      <td>Stephen King</td>\n",
              "      <td>Jack Nicholson</td>\n",
              "      <td>United Kingdom</td>\n",
              "      <td>19000000</td>\n",
              "      <td>46998772</td>\n",
              "      <td>Warner Bros.</td>\n",
              "      <td>146.0</td>\n",
              "      <td>June 13, 1980</td>\n",
              "    </tr>\n",
              "    <tr>\n",
              "      <th>1</th>\n",
              "      <td>The Blue Lagoon</td>\n",
              "      <td>R</td>\n",
              "      <td>Adventure</td>\n",
              "      <td>July 2, 1980 (United States)</td>\n",
              "      <td>5.8</td>\n",
              "      <td>65000.0</td>\n",
              "      <td>Randal Kleiser</td>\n",
              "      <td>Henry De Vere Stacpoole</td>\n",
              "      <td>Brooke Shields</td>\n",
              "      <td>United States</td>\n",
              "      <td>4500000</td>\n",
              "      <td>58853106</td>\n",
              "      <td>Columbia Pictures</td>\n",
              "      <td>104.0</td>\n",
              "      <td>July 2, 1980</td>\n",
              "    </tr>\n",
              "  </tbody>\n",
              "</table>\n",
              "</div>"
            ],
            "text/plain": [
              "              name rating      genre  ...            company  runtime  released_date\n",
              "0      The Shining      R      Drama  ...       Warner Bros.    146.0  June 13, 1980\n",
              "1  The Blue Lagoon      R  Adventure  ...  Columbia Pictures    104.0   July 2, 1980\n",
              "\n",
              "[2 rows x 15 columns]"
            ]
          },
          "metadata": {},
          "execution_count": 38
        }
      ]
    },
    {
      "cell_type": "code",
      "metadata": {
        "colab": {
          "base_uri": "https://localhost:8080/",
          "height": 213
        },
        "id": "2rGG2xHEHqm4",
        "outputId": "f18c3652-54fb-40a1-d6ec-72c30ea742e7"
      },
      "source": [
        "# The year column in dataframe could be wrong / not match\n",
        "# create correct year column\n",
        "df['year_correct'] = df['released_date'].str.split(',', expand=True)[1]\n",
        "\n",
        "# delete the space in left & right text\n",
        "df['year_correct'] = df['year_correct'].str.strip()\n",
        "\n",
        "df.head(2)"
      ],
      "execution_count": 39,
      "outputs": [
        {
          "output_type": "execute_result",
          "data": {
            "text/html": [
              "<div>\n",
              "<style scoped>\n",
              "    .dataframe tbody tr th:only-of-type {\n",
              "        vertical-align: middle;\n",
              "    }\n",
              "\n",
              "    .dataframe tbody tr th {\n",
              "        vertical-align: top;\n",
              "    }\n",
              "\n",
              "    .dataframe thead th {\n",
              "        text-align: right;\n",
              "    }\n",
              "</style>\n",
              "<table border=\"1\" class=\"dataframe\">\n",
              "  <thead>\n",
              "    <tr style=\"text-align: right;\">\n",
              "      <th></th>\n",
              "      <th>name</th>\n",
              "      <th>rating</th>\n",
              "      <th>genre</th>\n",
              "      <th>released</th>\n",
              "      <th>score</th>\n",
              "      <th>votes</th>\n",
              "      <th>director</th>\n",
              "      <th>writer</th>\n",
              "      <th>star</th>\n",
              "      <th>country</th>\n",
              "      <th>budget</th>\n",
              "      <th>gross</th>\n",
              "      <th>company</th>\n",
              "      <th>runtime</th>\n",
              "      <th>released_date</th>\n",
              "      <th>year_correct</th>\n",
              "    </tr>\n",
              "  </thead>\n",
              "  <tbody>\n",
              "    <tr>\n",
              "      <th>0</th>\n",
              "      <td>The Shining</td>\n",
              "      <td>R</td>\n",
              "      <td>Drama</td>\n",
              "      <td>June 13, 1980 (United States)</td>\n",
              "      <td>8.4</td>\n",
              "      <td>927000.0</td>\n",
              "      <td>Stanley Kubrick</td>\n",
              "      <td>Stephen King</td>\n",
              "      <td>Jack Nicholson</td>\n",
              "      <td>United Kingdom</td>\n",
              "      <td>19000000</td>\n",
              "      <td>46998772</td>\n",
              "      <td>Warner Bros.</td>\n",
              "      <td>146.0</td>\n",
              "      <td>June 13, 1980</td>\n",
              "      <td>1980</td>\n",
              "    </tr>\n",
              "    <tr>\n",
              "      <th>1</th>\n",
              "      <td>The Blue Lagoon</td>\n",
              "      <td>R</td>\n",
              "      <td>Adventure</td>\n",
              "      <td>July 2, 1980 (United States)</td>\n",
              "      <td>5.8</td>\n",
              "      <td>65000.0</td>\n",
              "      <td>Randal Kleiser</td>\n",
              "      <td>Henry De Vere Stacpoole</td>\n",
              "      <td>Brooke Shields</td>\n",
              "      <td>United States</td>\n",
              "      <td>4500000</td>\n",
              "      <td>58853106</td>\n",
              "      <td>Columbia Pictures</td>\n",
              "      <td>104.0</td>\n",
              "      <td>July 2, 1980</td>\n",
              "      <td>1980</td>\n",
              "    </tr>\n",
              "  </tbody>\n",
              "</table>\n",
              "</div>"
            ],
            "text/plain": [
              "              name rating      genre  ... runtime  released_date  year_correct\n",
              "0      The Shining      R      Drama  ...   146.0  June 13, 1980          1980\n",
              "1  The Blue Lagoon      R  Adventure  ...   104.0   July 2, 1980          1980\n",
              "\n",
              "[2 rows x 16 columns]"
            ]
          },
          "metadata": {},
          "execution_count": 39
        }
      ]
    },
    {
      "cell_type": "code",
      "metadata": {
        "colab": {
          "base_uri": "https://localhost:8080/"
        },
        "id": "Zromdg5DMFcC",
        "outputId": "055bb762-6684-4388-f877-8fe3e60194fb"
      },
      "source": [
        "# drop any duplicate\n",
        "\n",
        "df.drop_duplicates()\n",
        "df.info()\n",
        "# we don't have any duplicates"
      ],
      "execution_count": 13,
      "outputs": [
        {
          "output_type": "stream",
          "name": "stdout",
          "text": [
            "<class 'pandas.core.frame.DataFrame'>\n",
            "RangeIndex: 7668 entries, 0 to 7667\n",
            "Data columns (total 16 columns):\n",
            " #   Column         Non-Null Count  Dtype  \n",
            "---  ------         --------------  -----  \n",
            " 0   name           7668 non-null   object \n",
            " 1   rating         7591 non-null   object \n",
            " 2   genre          7668 non-null   object \n",
            " 3   released       7666 non-null   object \n",
            " 4   score          7665 non-null   float64\n",
            " 5   votes          7665 non-null   float64\n",
            " 6   director       7668 non-null   object \n",
            " 7   writer         7665 non-null   object \n",
            " 8   star           7667 non-null   object \n",
            " 9   country        7665 non-null   object \n",
            " 10  budget         7668 non-null   int64  \n",
            " 11  gross          7668 non-null   int64  \n",
            " 12  company        7651 non-null   object \n",
            " 13  runtime        7664 non-null   float64\n",
            " 14  released_date  7666 non-null   object \n",
            " 15  year_correct   7609 non-null   object \n",
            "dtypes: float64(3), int64(2), object(11)\n",
            "memory usage: 958.6+ KB\n"
          ]
        }
      ]
    },
    {
      "cell_type": "code",
      "metadata": {
        "id": "OwAxnCNv9huX"
      },
      "source": [
        "# Convert the type of released_date to datetime\n",
        "df['released_date'] = pd.to_datetime(df['released_date'])"
      ],
      "execution_count": 40,
      "outputs": []
    },
    {
      "cell_type": "code",
      "metadata": {
        "id": "TUssRMW6i5jd"
      },
      "source": [
        "# Convert the type of year_correct to datetime\n",
        "df['year_correct'] = pd.to_numeric(df['year_correct'], errors='coerce')\n",
        "\n",
        "df['year_correct'] = df['year_correct'].fillna(0)\n",
        "df['year_correct'] = df['year_correct'].astype('int64', errors='ignore')"
      ],
      "execution_count": 45,
      "outputs": []
    },
    {
      "cell_type": "code",
      "metadata": {
        "colab": {
          "base_uri": "https://localhost:8080/",
          "height": 315
        },
        "id": "9mybqPIFinGZ",
        "outputId": "3a555aec-f4c4-484b-ac9f-1f619c8421a2"
      },
      "source": [
        "# look at the data\n",
        "df.sample(3)"
      ],
      "execution_count": 46,
      "outputs": [
        {
          "output_type": "execute_result",
          "data": {
            "text/html": [
              "<div>\n",
              "<style scoped>\n",
              "    .dataframe tbody tr th:only-of-type {\n",
              "        vertical-align: middle;\n",
              "    }\n",
              "\n",
              "    .dataframe tbody tr th {\n",
              "        vertical-align: top;\n",
              "    }\n",
              "\n",
              "    .dataframe thead th {\n",
              "        text-align: right;\n",
              "    }\n",
              "</style>\n",
              "<table border=\"1\" class=\"dataframe\">\n",
              "  <thead>\n",
              "    <tr style=\"text-align: right;\">\n",
              "      <th></th>\n",
              "      <th>name</th>\n",
              "      <th>rating</th>\n",
              "      <th>genre</th>\n",
              "      <th>released</th>\n",
              "      <th>score</th>\n",
              "      <th>votes</th>\n",
              "      <th>director</th>\n",
              "      <th>writer</th>\n",
              "      <th>star</th>\n",
              "      <th>country</th>\n",
              "      <th>budget</th>\n",
              "      <th>gross</th>\n",
              "      <th>company</th>\n",
              "      <th>runtime</th>\n",
              "      <th>released_date</th>\n",
              "      <th>year_correct</th>\n",
              "    </tr>\n",
              "  </thead>\n",
              "  <tbody>\n",
              "    <tr>\n",
              "      <th>2770</th>\n",
              "      <td>Vampire in Brooklyn</td>\n",
              "      <td>R</td>\n",
              "      <td>Comedy</td>\n",
              "      <td>October 27, 1995 (United States)</td>\n",
              "      <td>4.6</td>\n",
              "      <td>22000.0</td>\n",
              "      <td>Wes Craven</td>\n",
              "      <td>Eddie Murphy</td>\n",
              "      <td>Eddie Murphy</td>\n",
              "      <td>United States</td>\n",
              "      <td>20000000</td>\n",
              "      <td>19751736</td>\n",
              "      <td>Eddie Murphy Productions</td>\n",
              "      <td>100.0</td>\n",
              "      <td>1995-10-27</td>\n",
              "      <td>1995</td>\n",
              "    </tr>\n",
              "    <tr>\n",
              "      <th>1468</th>\n",
              "      <td>Lethal Weapon 2</td>\n",
              "      <td>R</td>\n",
              "      <td>Action</td>\n",
              "      <td>July 7, 1989 (United States)</td>\n",
              "      <td>7.2</td>\n",
              "      <td>166000.0</td>\n",
              "      <td>Richard Donner</td>\n",
              "      <td>Jeffrey Boam</td>\n",
              "      <td>Mel Gibson</td>\n",
              "      <td>United States</td>\n",
              "      <td>28000000</td>\n",
              "      <td>227853986</td>\n",
              "      <td>Warner Bros.</td>\n",
              "      <td>114.0</td>\n",
              "      <td>1989-07-07</td>\n",
              "      <td>1989</td>\n",
              "    </tr>\n",
              "    <tr>\n",
              "      <th>7542</th>\n",
              "      <td>Blinded by the Light</td>\n",
              "      <td>PG-13</td>\n",
              "      <td>Comedy</td>\n",
              "      <td>August 16, 2019 (United States)</td>\n",
              "      <td>6.9</td>\n",
              "      <td>22000.0</td>\n",
              "      <td>Gurinder Chadha</td>\n",
              "      <td>Sarfraz Manzoor</td>\n",
              "      <td>Billy Barratt</td>\n",
              "      <td>United Kingdom</td>\n",
              "      <td>15000000</td>\n",
              "      <td>18096691</td>\n",
              "      <td>New Line Cinema</td>\n",
              "      <td>118.0</td>\n",
              "      <td>2019-08-16</td>\n",
              "      <td>2019</td>\n",
              "    </tr>\n",
              "  </tbody>\n",
              "</table>\n",
              "</div>"
            ],
            "text/plain": [
              "                      name rating   genre  ... runtime  released_date  year_correct\n",
              "2770   Vampire in Brooklyn      R  Comedy  ...   100.0     1995-10-27          1995\n",
              "1468       Lethal Weapon 2      R  Action  ...   114.0     1989-07-07          1989\n",
              "7542  Blinded by the Light  PG-13  Comedy  ...   118.0     2019-08-16          2019\n",
              "\n",
              "[3 rows x 16 columns]"
            ]
          },
          "metadata": {},
          "execution_count": 46
        }
      ]
    },
    {
      "cell_type": "markdown",
      "metadata": {
        "id": "kBwwCNYdI4aQ"
      },
      "source": [
        "# Analyze Data"
      ]
    },
    {
      "cell_type": "markdown",
      "metadata": {
        "id": "J4s3PvvtI9Kn"
      },
      "source": [
        "## Look at the groos column"
      ]
    },
    {
      "cell_type": "code",
      "metadata": {
        "colab": {
          "base_uri": "https://localhost:8080/",
          "height": 923
        },
        "id": "RuNpFqrmJC1H",
        "outputId": "a6c288bc-d2b8-4753-d6e1-32d54249563a"
      },
      "source": [
        "# to make it visible, all of them\n",
        "# pd.set_option('display.max_rows', None)\n",
        "\n",
        "# sort by gross\n",
        "df_sort_gross = df.sort_values(by=['gross'], inplace=False, ascending=False)\n",
        "df_sort_gross.head(10)"
      ],
      "execution_count": 14,
      "outputs": [
        {
          "output_type": "execute_result",
          "data": {
            "text/html": [
              "<div>\n",
              "<style scoped>\n",
              "    .dataframe tbody tr th:only-of-type {\n",
              "        vertical-align: middle;\n",
              "    }\n",
              "\n",
              "    .dataframe tbody tr th {\n",
              "        vertical-align: top;\n",
              "    }\n",
              "\n",
              "    .dataframe thead th {\n",
              "        text-align: right;\n",
              "    }\n",
              "</style>\n",
              "<table border=\"1\" class=\"dataframe\">\n",
              "  <thead>\n",
              "    <tr style=\"text-align: right;\">\n",
              "      <th></th>\n",
              "      <th>name</th>\n",
              "      <th>rating</th>\n",
              "      <th>genre</th>\n",
              "      <th>released</th>\n",
              "      <th>score</th>\n",
              "      <th>votes</th>\n",
              "      <th>director</th>\n",
              "      <th>writer</th>\n",
              "      <th>star</th>\n",
              "      <th>country</th>\n",
              "      <th>budget</th>\n",
              "      <th>gross</th>\n",
              "      <th>company</th>\n",
              "      <th>runtime</th>\n",
              "      <th>released_date</th>\n",
              "      <th>year_correct</th>\n",
              "    </tr>\n",
              "  </thead>\n",
              "  <tbody>\n",
              "    <tr>\n",
              "      <th>5445</th>\n",
              "      <td>Avatar</td>\n",
              "      <td>PG-13</td>\n",
              "      <td>Action</td>\n",
              "      <td>December 18, 2009 (United States)</td>\n",
              "      <td>7.8</td>\n",
              "      <td>1100000.0</td>\n",
              "      <td>James Cameron</td>\n",
              "      <td>James Cameron</td>\n",
              "      <td>Sam Worthington</td>\n",
              "      <td>United States</td>\n",
              "      <td>237000000</td>\n",
              "      <td>2847246203</td>\n",
              "      <td>Twentieth Century Fox</td>\n",
              "      <td>162.0</td>\n",
              "      <td>December 18, 2009</td>\n",
              "      <td>2009</td>\n",
              "    </tr>\n",
              "    <tr>\n",
              "      <th>7445</th>\n",
              "      <td>Avengers: Endgame</td>\n",
              "      <td>PG-13</td>\n",
              "      <td>Action</td>\n",
              "      <td>April 26, 2019 (United States)</td>\n",
              "      <td>8.4</td>\n",
              "      <td>903000.0</td>\n",
              "      <td>Anthony Russo</td>\n",
              "      <td>Christopher Markus</td>\n",
              "      <td>Robert Downey Jr.</td>\n",
              "      <td>United States</td>\n",
              "      <td>356000000</td>\n",
              "      <td>2797501328</td>\n",
              "      <td>Marvel Studios</td>\n",
              "      <td>181.0</td>\n",
              "      <td>April 26, 2019</td>\n",
              "      <td>2019</td>\n",
              "    </tr>\n",
              "    <tr>\n",
              "      <th>3045</th>\n",
              "      <td>Titanic</td>\n",
              "      <td>PG-13</td>\n",
              "      <td>Drama</td>\n",
              "      <td>December 19, 1997 (United States)</td>\n",
              "      <td>7.8</td>\n",
              "      <td>1100000.0</td>\n",
              "      <td>James Cameron</td>\n",
              "      <td>James Cameron</td>\n",
              "      <td>Leonardo DiCaprio</td>\n",
              "      <td>United States</td>\n",
              "      <td>200000000</td>\n",
              "      <td>2201647264</td>\n",
              "      <td>Twentieth Century Fox</td>\n",
              "      <td>194.0</td>\n",
              "      <td>December 19, 1997</td>\n",
              "      <td>1997</td>\n",
              "    </tr>\n",
              "    <tr>\n",
              "      <th>6663</th>\n",
              "      <td>Star Wars: Episode VII - The Force Awakens</td>\n",
              "      <td>PG-13</td>\n",
              "      <td>Action</td>\n",
              "      <td>December 18, 2015 (United States)</td>\n",
              "      <td>7.8</td>\n",
              "      <td>876000.0</td>\n",
              "      <td>J.J. Abrams</td>\n",
              "      <td>Lawrence Kasdan</td>\n",
              "      <td>Daisy Ridley</td>\n",
              "      <td>United States</td>\n",
              "      <td>245000000</td>\n",
              "      <td>2069521700</td>\n",
              "      <td>Lucasfilm</td>\n",
              "      <td>138.0</td>\n",
              "      <td>December 18, 2015</td>\n",
              "      <td>2015</td>\n",
              "    </tr>\n",
              "    <tr>\n",
              "      <th>7244</th>\n",
              "      <td>Avengers: Infinity War</td>\n",
              "      <td>PG-13</td>\n",
              "      <td>Action</td>\n",
              "      <td>April 27, 2018 (United States)</td>\n",
              "      <td>8.4</td>\n",
              "      <td>897000.0</td>\n",
              "      <td>Anthony Russo</td>\n",
              "      <td>Christopher Markus</td>\n",
              "      <td>Robert Downey Jr.</td>\n",
              "      <td>United States</td>\n",
              "      <td>321000000</td>\n",
              "      <td>2048359754</td>\n",
              "      <td>Marvel Studios</td>\n",
              "      <td>149.0</td>\n",
              "      <td>April 27, 2018</td>\n",
              "      <td>2018</td>\n",
              "    </tr>\n",
              "    <tr>\n",
              "      <th>7480</th>\n",
              "      <td>The Lion King</td>\n",
              "      <td>PG</td>\n",
              "      <td>Animation</td>\n",
              "      <td>July 19, 2019 (United States)</td>\n",
              "      <td>6.9</td>\n",
              "      <td>222000.0</td>\n",
              "      <td>Jon Favreau</td>\n",
              "      <td>Jeff Nathanson</td>\n",
              "      <td>Donald Glover</td>\n",
              "      <td>United States</td>\n",
              "      <td>260000000</td>\n",
              "      <td>1670727580</td>\n",
              "      <td>Walt Disney Pictures</td>\n",
              "      <td>118.0</td>\n",
              "      <td>July 19, 2019</td>\n",
              "      <td>2019</td>\n",
              "    </tr>\n",
              "    <tr>\n",
              "      <th>6653</th>\n",
              "      <td>Jurassic World</td>\n",
              "      <td>PG-13</td>\n",
              "      <td>Action</td>\n",
              "      <td>June 12, 2015 (United States)</td>\n",
              "      <td>7.0</td>\n",
              "      <td>593000.0</td>\n",
              "      <td>Colin Trevorrow</td>\n",
              "      <td>Rick Jaffa</td>\n",
              "      <td>Chris Pratt</td>\n",
              "      <td>United States</td>\n",
              "      <td>150000000</td>\n",
              "      <td>1670516444</td>\n",
              "      <td>Universal Pictures</td>\n",
              "      <td>124.0</td>\n",
              "      <td>June 12, 2015</td>\n",
              "      <td>2015</td>\n",
              "    </tr>\n",
              "    <tr>\n",
              "      <th>6043</th>\n",
              "      <td>The Avengers</td>\n",
              "      <td>PG-13</td>\n",
              "      <td>Action</td>\n",
              "      <td>May 4, 2012 (United States)</td>\n",
              "      <td>8.0</td>\n",
              "      <td>1300000.0</td>\n",
              "      <td>Joss Whedon</td>\n",
              "      <td>Joss Whedon</td>\n",
              "      <td>Robert Downey Jr.</td>\n",
              "      <td>United States</td>\n",
              "      <td>220000000</td>\n",
              "      <td>1518815515</td>\n",
              "      <td>Marvel Studios</td>\n",
              "      <td>143.0</td>\n",
              "      <td>May 4, 2012</td>\n",
              "      <td>2012</td>\n",
              "    </tr>\n",
              "    <tr>\n",
              "      <th>6646</th>\n",
              "      <td>Furious 7</td>\n",
              "      <td>PG-13</td>\n",
              "      <td>Action</td>\n",
              "      <td>April 3, 2015 (United States)</td>\n",
              "      <td>7.1</td>\n",
              "      <td>370000.0</td>\n",
              "      <td>James Wan</td>\n",
              "      <td>Chris Morgan</td>\n",
              "      <td>Vin Diesel</td>\n",
              "      <td>United States</td>\n",
              "      <td>190000000</td>\n",
              "      <td>1515341399</td>\n",
              "      <td>Universal Pictures</td>\n",
              "      <td>137.0</td>\n",
              "      <td>April 3, 2015</td>\n",
              "      <td>2015</td>\n",
              "    </tr>\n",
              "    <tr>\n",
              "      <th>7494</th>\n",
              "      <td>Frozen II</td>\n",
              "      <td>PG</td>\n",
              "      <td>Animation</td>\n",
              "      <td>November 22, 2019 (United States)</td>\n",
              "      <td>6.8</td>\n",
              "      <td>148000.0</td>\n",
              "      <td>Chris Buck</td>\n",
              "      <td>Jennifer Lee</td>\n",
              "      <td>Kristen Bell</td>\n",
              "      <td>United States</td>\n",
              "      <td>150000000</td>\n",
              "      <td>1450026933</td>\n",
              "      <td>Walt Disney Animation Studios</td>\n",
              "      <td>103.0</td>\n",
              "      <td>November 22, 2019</td>\n",
              "      <td>2019</td>\n",
              "    </tr>\n",
              "  </tbody>\n",
              "</table>\n",
              "</div>"
            ],
            "text/plain": [
              "                                            name  ... year_correct\n",
              "5445                                      Avatar  ...         2009\n",
              "7445                           Avengers: Endgame  ...         2019\n",
              "3045                                     Titanic  ...         1997\n",
              "6663  Star Wars: Episode VII - The Force Awakens  ...         2015\n",
              "7244                      Avengers: Infinity War  ...         2018\n",
              "7480                               The Lion King  ...         2019\n",
              "6653                              Jurassic World  ...         2015\n",
              "6043                                The Avengers  ...         2012\n",
              "6646                                   Furious 7  ...         2015\n",
              "7494                                   Frozen II  ...         2019\n",
              "\n",
              "[10 rows x 16 columns]"
            ]
          },
          "metadata": {},
          "execution_count": 14
        }
      ]
    },
    {
      "cell_type": "markdown",
      "metadata": {
        "id": "X9ELn4TsJAaN"
      },
      "source": [
        "### What variable that have correlation related to gross column?\n",
        "\n",
        "=> The hypotesis: budget and company have high correlation toward gross"
      ]
    },
    {
      "cell_type": "markdown",
      "metadata": {
        "id": "qdufMgjuRKSM"
      },
      "source": [
        "tips title of theg graph: Typically you have your, \n",
        "- independent variable (the one you can control) on the x axis and \n",
        "- dependent variable (the one whose value \"depends\" on the independent variable) on the y axis.\n",
        "\n",
        "The title:(y axis) vs.(x axis) => Y depends on X."
      ]
    },
    {
      "cell_type": "code",
      "metadata": {
        "colab": {
          "base_uri": "https://localhost:8080/",
          "height": 299
        },
        "id": "uCTlbZw2JC7g",
        "outputId": "a9ddc4a2-498b-4114-c843-904860203c86"
      },
      "source": [
        "# The scatter plot with gross vs budget\n",
        "\n",
        "plt.scatter(x=df_sort_gross['budget'], y=df_sort_gross['gross'])\n",
        "plt.title('Gross Earnings vs Budget')\n",
        "plt.xlabel('Gross Earnings')\n",
        "plt.ylabel('Budget for File')\n",
        "plt.show()"
      ],
      "execution_count": 15,
      "outputs": [
        {
          "output_type": "display_data",
          "data": {
            "image/png": "[encoded data removed]",
            "text/plain": [
              "<Figure size 432x288 with 1 Axes>"
            ]
          },
          "metadata": {
            "needs_background": "light"
          }
        }
      ]
    },
    {
      "cell_type": "code",
      "metadata": {
        "colab": {
          "base_uri": "https://localhost:8080/",
          "height": 310
        },
        "id": "pPqo7mlm4xOk",
        "outputId": "3bea9c7f-8c48-4495-e607-d3d0a949ba7a"
      },
      "source": [
        "# create the correlation plot, Gross vs budget\n",
        "\n",
        "sns.regplot(x='budget', y='gross', data=df_sort_gross, \n",
        "            scatter_kws={'color':'red'}, line_kws={'color':'blue'})"
      ],
      "execution_count": 16,
      "outputs": [
        {
          "output_type": "execute_result",
          "data": {
            "text/plain": [
              "<matplotlib.axes._subplots.AxesSubplot at 0x7f3ceb1dbe10>"
            ]
          },
          "metadata": {},
          "execution_count": 16
        },
        {
          "output_type": "display_data",
          "data": {
            "image/png": "[encoded data removed]",
            "text/plain": [
              "<Figure size 432x288 with 1 Axes>"
            ]
          },
          "metadata": {
            "needs_background": "light"
          }
        }
      ]
    },
    {
      "cell_type": "markdown",
      "metadata": {
        "id": "ebUwM5K2T6h3"
      },
      "source": [
        "=> It looks like Gross and Budget have positive correlation, but we don't know how that much is"
      ]
    },
    {
      "cell_type": "markdown",
      "metadata": {
        "id": "WQEVo6AUT6qd"
      },
      "source": [
        "### Looking at the correlation"
      ]
    },
    {
      "cell_type": "code",
      "metadata": {
        "colab": {
          "base_uri": "https://localhost:8080/",
          "height": 204
        },
        "id": "ufhv_feaUFEH",
        "outputId": "916cd713-69dd-4943-ff3e-c1489c98589c"
      },
      "source": [
        "# correlation\n",
        "\n",
        "# pearson correlation\n",
        "df.corr(method = 'pearson')\n",
        "\n",
        "# other type of correlation:\n",
        "# pearson, kendall, spearman"
      ],
      "execution_count": 18,
      "outputs": [
        {
          "output_type": "execute_result",
          "data": {
            "text/html": [
              "<div>\n",
              "<style scoped>\n",
              "    .dataframe tbody tr th:only-of-type {\n",
              "        vertical-align: middle;\n",
              "    }\n",
              "\n",
              "    .dataframe tbody tr th {\n",
              "        vertical-align: top;\n",
              "    }\n",
              "\n",
              "    .dataframe thead th {\n",
              "        text-align: right;\n",
              "    }\n",
              "</style>\n",
              "<table border=\"1\" class=\"dataframe\">\n",
              "  <thead>\n",
              "    <tr style=\"text-align: right;\">\n",
              "      <th></th>\n",
              "      <th>score</th>\n",
              "      <th>votes</th>\n",
              "      <th>budget</th>\n",
              "      <th>gross</th>\n",
              "      <th>runtime</th>\n",
              "    </tr>\n",
              "  </thead>\n",
              "  <tbody>\n",
              "    <tr>\n",
              "      <th>score</th>\n",
              "      <td>1.000000</td>\n",
              "      <td>0.409182</td>\n",
              "      <td>0.055665</td>\n",
              "      <td>0.186392</td>\n",
              "      <td>0.399451</td>\n",
              "    </tr>\n",
              "    <tr>\n",
              "      <th>votes</th>\n",
              "      <td>0.409182</td>\n",
              "      <td>1.000000</td>\n",
              "      <td>0.486862</td>\n",
              "      <td>0.632834</td>\n",
              "      <td>0.309212</td>\n",
              "    </tr>\n",
              "    <tr>\n",
              "      <th>budget</th>\n",
              "      <td>0.055665</td>\n",
              "      <td>0.486862</td>\n",
              "      <td>1.000000</td>\n",
              "      <td>0.750157</td>\n",
              "      <td>0.269510</td>\n",
              "    </tr>\n",
              "    <tr>\n",
              "      <th>gross</th>\n",
              "      <td>0.186392</td>\n",
              "      <td>0.632834</td>\n",
              "      <td>0.750157</td>\n",
              "      <td>1.000000</td>\n",
              "      <td>0.245235</td>\n",
              "    </tr>\n",
              "    <tr>\n",
              "      <th>runtime</th>\n",
              "      <td>0.399451</td>\n",
              "      <td>0.309212</td>\n",
              "      <td>0.269510</td>\n",
              "      <td>0.245235</td>\n",
              "      <td>1.000000</td>\n",
              "    </tr>\n",
              "  </tbody>\n",
              "</table>\n",
              "</div>"
            ],
            "text/plain": [
              "            score     votes    budget     gross   runtime\n",
              "score    1.000000  0.409182  0.055665  0.186392  0.399451\n",
              "votes    0.409182  1.000000  0.486862  0.632834  0.309212\n",
              "budget   0.055665  0.486862  1.000000  0.750157  0.269510\n",
              "gross    0.186392  0.632834  0.750157  1.000000  0.245235\n",
              "runtime  0.399451  0.309212  0.269510  0.245235  1.000000"
            ]
          },
          "metadata": {},
          "execution_count": 18
        }
      ]
    },
    {
      "cell_type": "markdown",
      "metadata": {
        "id": "G5iuTbSEejTH"
      },
      "source": [
        "=> The correlation coefficient can range in value from −1 to +1. The larger the absolute value of the coefficient, the stronger the relationship between the variables.\n",
        "\n",
        "\n",
        "=> For the Pearson correlation, an absolute value of 1 indicates a perfect linear relationship. A correlation close to 0 indicates no linear relationship between the variables.\n",
        "\n",
        "=> One of the hypothesis right, there is High correlation between budget and gross, 0.750157\t"
      ]
    },
    {
      "cell_type": "code",
      "metadata": {
        "colab": {
          "base_uri": "https://localhost:8080/",
          "height": 299
        },
        "id": "on3CtdQLfW7J",
        "outputId": "087d3b69-c142-4715-be36-b7c38bd94e0c"
      },
      "source": [
        "# create correlation graph / visualization\n",
        "correlation_matrix = df.corr(method = 'pearson')\n",
        "\n",
        "sns.heatmap(correlation_matrix, annot=True)\n",
        "plt.title('Correlation Matrix for Numeric Features')\n",
        "plt.xlabel('Movie Features')\n",
        "plt.ylabel('Movie Features')\n",
        "\n",
        "plt.show()"
      ],
      "execution_count": 21,
      "outputs": [
        {
          "output_type": "display_data",
          "data": {
            "image/png": "[encoded data removed]",
            "text/plain": [
              "<Figure size 432x288 with 2 Axes>"
            ]
          },
          "metadata": {
            "needs_background": "light"
          }
        }
      ]
    },
    {
      "cell_type": "markdown",
      "metadata": {
        "id": "qTSOzK_Ef3gt"
      },
      "source": [
        "## Look at the non numeric column"
      ]
    },
    {
      "cell_type": "code",
      "metadata": {
        "colab": {
          "base_uri": "https://localhost:8080/",
          "height": 213
        },
        "id": "F7AKE_r8gn4z",
        "outputId": "b2d861f4-5269-4a3b-e588-eaa3fe375890"
      },
      "source": [
        "# look at the data\n",
        "df.head(2)"
      ],
      "execution_count": 22,
      "outputs": [
        {
          "output_type": "execute_result",
          "data": {
            "text/html": [
              "<div>\n",
              "<style scoped>\n",
              "    .dataframe tbody tr th:only-of-type {\n",
              "        vertical-align: middle;\n",
              "    }\n",
              "\n",
              "    .dataframe tbody tr th {\n",
              "        vertical-align: top;\n",
              "    }\n",
              "\n",
              "    .dataframe thead th {\n",
              "        text-align: right;\n",
              "    }\n",
              "</style>\n",
              "<table border=\"1\" class=\"dataframe\">\n",
              "  <thead>\n",
              "    <tr style=\"text-align: right;\">\n",
              "      <th></th>\n",
              "      <th>name</th>\n",
              "      <th>rating</th>\n",
              "      <th>genre</th>\n",
              "      <th>released</th>\n",
              "      <th>score</th>\n",
              "      <th>votes</th>\n",
              "      <th>director</th>\n",
              "      <th>writer</th>\n",
              "      <th>star</th>\n",
              "      <th>country</th>\n",
              "      <th>budget</th>\n",
              "      <th>gross</th>\n",
              "      <th>company</th>\n",
              "      <th>runtime</th>\n",
              "      <th>released_date</th>\n",
              "      <th>year_correct</th>\n",
              "    </tr>\n",
              "  </thead>\n",
              "  <tbody>\n",
              "    <tr>\n",
              "      <th>0</th>\n",
              "      <td>The Shining</td>\n",
              "      <td>R</td>\n",
              "      <td>Drama</td>\n",
              "      <td>June 13, 1980 (United States)</td>\n",
              "      <td>8.4</td>\n",
              "      <td>927000.0</td>\n",
              "      <td>Stanley Kubrick</td>\n",
              "      <td>Stephen King</td>\n",
              "      <td>Jack Nicholson</td>\n",
              "      <td>United Kingdom</td>\n",
              "      <td>19000000</td>\n",
              "      <td>46998772</td>\n",
              "      <td>Warner Bros.</td>\n",
              "      <td>146.0</td>\n",
              "      <td>June 13, 1980</td>\n",
              "      <td>1980</td>\n",
              "    </tr>\n",
              "    <tr>\n",
              "      <th>1</th>\n",
              "      <td>The Blue Lagoon</td>\n",
              "      <td>R</td>\n",
              "      <td>Adventure</td>\n",
              "      <td>July 2, 1980 (United States)</td>\n",
              "      <td>5.8</td>\n",
              "      <td>65000.0</td>\n",
              "      <td>Randal Kleiser</td>\n",
              "      <td>Henry De Vere Stacpoole</td>\n",
              "      <td>Brooke Shields</td>\n",
              "      <td>United States</td>\n",
              "      <td>4500000</td>\n",
              "      <td>58853106</td>\n",
              "      <td>Columbia Pictures</td>\n",
              "      <td>104.0</td>\n",
              "      <td>July 2, 1980</td>\n",
              "      <td>1980</td>\n",
              "    </tr>\n",
              "  </tbody>\n",
              "</table>\n",
              "</div>"
            ],
            "text/plain": [
              "              name rating      genre  ... runtime  released_date  year_correct\n",
              "0      The Shining      R      Drama  ...   146.0  June 13, 1980          1980\n",
              "1  The Blue Lagoon      R  Adventure  ...   104.0   July 2, 1980          1980\n",
              "\n",
              "[2 rows x 16 columns]"
            ]
          },
          "metadata": {},
          "execution_count": 22
        }
      ]
    },
    {
      "cell_type": "code",
      "metadata": {
        "colab": {
          "base_uri": "https://localhost:8080/",
          "height": 204
        },
        "id": "rBRDFS5jg4tC",
        "outputId": "98218f26-fe18-44a5-bebb-3a378c1ba7e5"
      },
      "source": [
        "# cconvert string column to category\n",
        "\n",
        "df_numerized = df.copy()\n",
        "\n",
        "for col_name in df_numerized.columns:\n",
        "  if(df_numerized[col_name].dtype == 'object'):\n",
        "    df_numerized[col_name] = df_numerized[col_name].astype('category')\n",
        "    df_numerized[col_name] = df_numerized[col_name].cat.codes\n",
        "\n",
        "df_numerized.sample(5)"
      ],
      "execution_count": 47,
      "outputs": [
        {
          "output_type": "execute_result",
          "data": {
            "text/html": [
              "<div>\n",
              "<style scoped>\n",
              "    .dataframe tbody tr th:only-of-type {\n",
              "        vertical-align: middle;\n",
              "    }\n",
              "\n",
              "    .dataframe tbody tr th {\n",
              "        vertical-align: top;\n",
              "    }\n",
              "\n",
              "    .dataframe thead th {\n",
              "        text-align: right;\n",
              "    }\n",
              "</style>\n",
              "<table border=\"1\" class=\"dataframe\">\n",
              "  <thead>\n",
              "    <tr style=\"text-align: right;\">\n",
              "      <th></th>\n",
              "      <th>name</th>\n",
              "      <th>rating</th>\n",
              "      <th>genre</th>\n",
              "      <th>released</th>\n",
              "      <th>score</th>\n",
              "      <th>votes</th>\n",
              "      <th>director</th>\n",
              "      <th>writer</th>\n",
              "      <th>star</th>\n",
              "      <th>country</th>\n",
              "      <th>budget</th>\n",
              "      <th>gross</th>\n",
              "      <th>company</th>\n",
              "      <th>runtime</th>\n",
              "      <th>released_date</th>\n",
              "      <th>year_correct</th>\n",
              "    </tr>\n",
              "  </thead>\n",
              "  <tbody>\n",
              "    <tr>\n",
              "      <th>6321</th>\n",
              "      <td>523</td>\n",
              "      <td>6</td>\n",
              "      <td>4</td>\n",
              "      <td>1139</td>\n",
              "      <td>7.2</td>\n",
              "      <td>87000.0</td>\n",
              "      <td>1449</td>\n",
              "      <td>4324</td>\n",
              "      <td>1840</td>\n",
              "      <td>55</td>\n",
              "      <td>25000000</td>\n",
              "      <td>74188937</td>\n",
              "      <td>2207</td>\n",
              "      <td>121.0</td>\n",
              "      <td>2014-01-10</td>\n",
              "      <td>2014</td>\n",
              "    </tr>\n",
              "    <tr>\n",
              "      <th>4836</th>\n",
              "      <td>1892</td>\n",
              "      <td>6</td>\n",
              "      <td>4</td>\n",
              "      <td>207</td>\n",
              "      <td>6.6</td>\n",
              "      <td>14000.0</td>\n",
              "      <td>234</td>\n",
              "      <td>643</td>\n",
              "      <td>1790</td>\n",
              "      <td>35</td>\n",
              "      <td>1000000</td>\n",
              "      <td>2708087</td>\n",
              "      <td>509</td>\n",
              "      <td>94.0</td>\n",
              "      <td>2005-04-29</td>\n",
              "      <td>2005</td>\n",
              "    </tr>\n",
              "    <tr>\n",
              "      <th>6250</th>\n",
              "      <td>1922</td>\n",
              "      <td>5</td>\n",
              "      <td>0</td>\n",
              "      <td>2393</td>\n",
              "      <td>7.0</td>\n",
              "      <td>377000.0</td>\n",
              "      <td>1549</td>\n",
              "      <td>706</td>\n",
              "      <td>2721</td>\n",
              "      <td>55</td>\n",
              "      <td>160000000</td>\n",
              "      <td>788680968</td>\n",
              "      <td>2281</td>\n",
              "      <td>130.0</td>\n",
              "      <td>2013-05-24</td>\n",
              "      <td>2013</td>\n",
              "    </tr>\n",
              "    <tr>\n",
              "      <th>5853</th>\n",
              "      <td>6084</td>\n",
              "      <td>6</td>\n",
              "      <td>3</td>\n",
              "      <td>2629</td>\n",
              "      <td>8.5</td>\n",
              "      <td>785000.0</td>\n",
              "      <td>2083</td>\n",
              "      <td>3218</td>\n",
              "      <td>842</td>\n",
              "      <td>14</td>\n",
              "      <td>0</td>\n",
              "      <td>426588510</td>\n",
              "      <td>1913</td>\n",
              "      <td>112.0</td>\n",
              "      <td>2011-11-02</td>\n",
              "      <td>2011</td>\n",
              "    </tr>\n",
              "    <tr>\n",
              "      <th>3461</th>\n",
              "      <td>3426</td>\n",
              "      <td>6</td>\n",
              "      <td>6</td>\n",
              "      <td>1354</td>\n",
              "      <td>8.0</td>\n",
              "      <td>295000.0</td>\n",
              "      <td>2152</td>\n",
              "      <td>3328</td>\n",
              "      <td>2635</td>\n",
              "      <td>55</td>\n",
              "      <td>37000000</td>\n",
              "      <td>48451803</td>\n",
              "      <td>1158</td>\n",
              "      <td>188.0</td>\n",
              "      <td>2000-01-07</td>\n",
              "      <td>2000</td>\n",
              "    </tr>\n",
              "  </tbody>\n",
              "</table>\n",
              "</div>"
            ],
            "text/plain": [
              "      name  rating  genre  ...  runtime  released_date  year_correct\n",
              "6321   523       6      4  ...    121.0     2014-01-10          2014\n",
              "4836  1892       6      4  ...     94.0     2005-04-29          2005\n",
              "6250  1922       5      0  ...    130.0     2013-05-24          2013\n",
              "5853  6084       6      3  ...    112.0     2011-11-02          2011\n",
              "3461  3426       6      6  ...    188.0     2000-01-07          2000\n",
              "\n",
              "[5 rows x 16 columns]"
            ]
          },
          "metadata": {},
          "execution_count": 47
        }
      ]
    },
    {
      "cell_type": "code",
      "metadata": {
        "colab": {
          "base_uri": "https://localhost:8080/"
        },
        "id": "0-zOpirLnhox",
        "outputId": "a8fe4a04-d05b-4f79-cba4-1529a190c820"
      },
      "source": [
        "df.info()"
      ],
      "execution_count": 56,
      "outputs": [
        {
          "output_type": "stream",
          "name": "stdout",
          "text": [
            "<class 'pandas.core.frame.DataFrame'>\n",
            "RangeIndex: 7668 entries, 0 to 7667\n",
            "Data columns (total 16 columns):\n",
            " #   Column         Non-Null Count  Dtype         \n",
            "---  ------         --------------  -----         \n",
            " 0   name           7668 non-null   object        \n",
            " 1   rating         7591 non-null   object        \n",
            " 2   genre          7668 non-null   object        \n",
            " 3   released       7666 non-null   object        \n",
            " 4   score          7665 non-null   float64       \n",
            " 5   votes          7665 non-null   float64       \n",
            " 6   director       7668 non-null   object        \n",
            " 7   writer         7665 non-null   object        \n",
            " 8   star           7667 non-null   object        \n",
            " 9   country        7665 non-null   object        \n",
            " 10  budget         7668 non-null   int64         \n",
            " 11  gross          7668 non-null   int64         \n",
            " 12  company        7651 non-null   object        \n",
            " 13  runtime        7664 non-null   float64       \n",
            " 14  released_date  7666 non-null   datetime64[ns]\n",
            " 15  year_correct   7668 non-null   int64         \n",
            "dtypes: datetime64[ns](1), float64(3), int64(3), object(9)\n",
            "memory usage: 958.6+ KB\n"
          ]
        }
      ]
    },
    {
      "cell_type": "code",
      "metadata": {
        "colab": {
          "base_uri": "https://localhost:8080/",
          "height": 915
        },
        "id": "xrSbK7ztm-BH",
        "outputId": "dc16a064-e281-448b-acd2-56a6a76931a6"
      },
      "source": [
        "# create correlation graph / visualization\n",
        "plt.clf()\n",
        "plt.subplots(figsize=(20,15))\n",
        "\n",
        "correlation_matrix = df_numerized.corr(method = 'pearson')\n",
        "\n",
        "sns.heatmap(correlation_matrix, annot=True)\n",
        "plt.title('Correlation Matrix for All Features')\n",
        "plt.xlabel('Movie Features')\n",
        "plt.ylabel('Movie Features')\n",
        "\n",
        "plt.show()"
      ],
      "execution_count": 55,
      "outputs": [
        {
          "output_type": "display_data",
          "data": {
            "text/plain": [
              "<Figure size 864x576 with 0 Axes>"
            ]
          },
          "metadata": {}
        },
        {
          "output_type": "display_data",
          "data": {
            "image/png": "[encoded data removed]",
            "text/plain": [
              "<Figure size 1440x1080 with 2 Axes>"
            ]
          },
          "metadata": {
            "needs_background": "light"
          }
        }
      ]
    },
    {
      "cell_type": "code",
      "metadata": {
        "colab": {
          "base_uri": "https://localhost:8080/",
          "height": 534
        },
        "id": "CfO1DD_AnxpD",
        "outputId": "2ed35902-48a2-44ec-9162-e831318ab717"
      },
      "source": [
        "# look at the correlation in table\n",
        "df_numerized.corr()"
      ],
      "execution_count": 57,
      "outputs": [
        {
          "output_type": "execute_result",
          "data": {
            "text/html": [
              "<div>\n",
              "<style scoped>\n",
              "    .dataframe tbody tr th:only-of-type {\n",
              "        vertical-align: middle;\n",
              "    }\n",
              "\n",
              "    .dataframe tbody tr th {\n",
              "        vertical-align: top;\n",
              "    }\n",
              "\n",
              "    .dataframe thead th {\n",
              "        text-align: right;\n",
              "    }\n",
              "</style>\n",
              "<table border=\"1\" class=\"dataframe\">\n",
              "  <thead>\n",
              "    <tr style=\"text-align: right;\">\n",
              "      <th></th>\n",
              "      <th>name</th>\n",
              "      <th>rating</th>\n",
              "      <th>genre</th>\n",
              "      <th>released</th>\n",
              "      <th>score</th>\n",
              "      <th>votes</th>\n",
              "      <th>director</th>\n",
              "      <th>writer</th>\n",
              "      <th>star</th>\n",
              "      <th>country</th>\n",
              "      <th>budget</th>\n",
              "      <th>gross</th>\n",
              "      <th>company</th>\n",
              "      <th>runtime</th>\n",
              "      <th>year_correct</th>\n",
              "    </tr>\n",
              "  </thead>\n",
              "  <tbody>\n",
              "    <tr>\n",
              "      <th>name</th>\n",
              "      <td>1.000000</td>\n",
              "      <td>-0.008069</td>\n",
              "      <td>0.016355</td>\n",
              "      <td>-0.011311</td>\n",
              "      <td>0.017097</td>\n",
              "      <td>0.013088</td>\n",
              "      <td>0.009079</td>\n",
              "      <td>0.009081</td>\n",
              "      <td>0.006472</td>\n",
              "      <td>-0.010737</td>\n",
              "      <td>0.020548</td>\n",
              "      <td>0.006989</td>\n",
              "      <td>0.009211</td>\n",
              "      <td>0.010392</td>\n",
              "      <td>-0.009264</td>\n",
              "    </tr>\n",
              "    <tr>\n",
              "      <th>rating</th>\n",
              "      <td>-0.008069</td>\n",
              "      <td>1.000000</td>\n",
              "      <td>0.072423</td>\n",
              "      <td>0.016613</td>\n",
              "      <td>-0.001314</td>\n",
              "      <td>0.033225</td>\n",
              "      <td>0.019483</td>\n",
              "      <td>-0.005921</td>\n",
              "      <td>0.013405</td>\n",
              "      <td>0.081244</td>\n",
              "      <td>-0.081939</td>\n",
              "      <td>-0.095450</td>\n",
              "      <td>-0.032943</td>\n",
              "      <td>0.062145</td>\n",
              "      <td>-0.013129</td>\n",
              "    </tr>\n",
              "    <tr>\n",
              "      <th>genre</th>\n",
              "      <td>0.016355</td>\n",
              "      <td>0.072423</td>\n",
              "      <td>1.000000</td>\n",
              "      <td>0.029822</td>\n",
              "      <td>0.027965</td>\n",
              "      <td>-0.145307</td>\n",
              "      <td>-0.015258</td>\n",
              "      <td>0.006567</td>\n",
              "      <td>-0.005477</td>\n",
              "      <td>-0.037615</td>\n",
              "      <td>-0.334021</td>\n",
              "      <td>-0.234297</td>\n",
              "      <td>-0.071067</td>\n",
              "      <td>-0.052711</td>\n",
              "      <td>-0.061689</td>\n",
              "    </tr>\n",
              "    <tr>\n",
              "      <th>released</th>\n",
              "      <td>-0.011311</td>\n",
              "      <td>0.016613</td>\n",
              "      <td>0.029822</td>\n",
              "      <td>1.000000</td>\n",
              "      <td>0.042788</td>\n",
              "      <td>0.016097</td>\n",
              "      <td>-0.001478</td>\n",
              "      <td>-0.002404</td>\n",
              "      <td>0.015777</td>\n",
              "      <td>-0.020427</td>\n",
              "      <td>0.009145</td>\n",
              "      <td>0.000519</td>\n",
              "      <td>-0.010474</td>\n",
              "      <td>0.000868</td>\n",
              "      <td>0.026875</td>\n",
              "    </tr>\n",
              "    <tr>\n",
              "      <th>score</th>\n",
              "      <td>0.017097</td>\n",
              "      <td>-0.001314</td>\n",
              "      <td>0.027965</td>\n",
              "      <td>0.042788</td>\n",
              "      <td>1.000000</td>\n",
              "      <td>0.409182</td>\n",
              "      <td>0.009559</td>\n",
              "      <td>0.019416</td>\n",
              "      <td>-0.001609</td>\n",
              "      <td>-0.133348</td>\n",
              "      <td>0.055665</td>\n",
              "      <td>0.186392</td>\n",
              "      <td>0.001030</td>\n",
              "      <td>0.399451</td>\n",
              "      <td>0.001653</td>\n",
              "    </tr>\n",
              "    <tr>\n",
              "      <th>votes</th>\n",
              "      <td>0.013088</td>\n",
              "      <td>0.033225</td>\n",
              "      <td>-0.145307</td>\n",
              "      <td>0.016097</td>\n",
              "      <td>0.409182</td>\n",
              "      <td>1.000000</td>\n",
              "      <td>0.000260</td>\n",
              "      <td>0.000892</td>\n",
              "      <td>-0.019282</td>\n",
              "      <td>0.073625</td>\n",
              "      <td>0.486862</td>\n",
              "      <td>0.632834</td>\n",
              "      <td>0.133204</td>\n",
              "      <td>0.309212</td>\n",
              "      <td>0.056070</td>\n",
              "    </tr>\n",
              "    <tr>\n",
              "      <th>director</th>\n",
              "      <td>0.009079</td>\n",
              "      <td>0.019483</td>\n",
              "      <td>-0.015258</td>\n",
              "      <td>-0.001478</td>\n",
              "      <td>0.009559</td>\n",
              "      <td>0.000260</td>\n",
              "      <td>1.000000</td>\n",
              "      <td>0.299067</td>\n",
              "      <td>0.039234</td>\n",
              "      <td>0.017490</td>\n",
              "      <td>0.004976</td>\n",
              "      <td>-0.014916</td>\n",
              "      <td>0.004404</td>\n",
              "      <td>0.017624</td>\n",
              "      <td>0.010682</td>\n",
              "    </tr>\n",
              "    <tr>\n",
              "      <th>writer</th>\n",
              "      <td>0.009081</td>\n",
              "      <td>-0.005921</td>\n",
              "      <td>0.006567</td>\n",
              "      <td>-0.002404</td>\n",
              "      <td>0.019416</td>\n",
              "      <td>0.000892</td>\n",
              "      <td>0.299067</td>\n",
              "      <td>1.000000</td>\n",
              "      <td>0.027245</td>\n",
              "      <td>0.015343</td>\n",
              "      <td>-0.025911</td>\n",
              "      <td>-0.022997</td>\n",
              "      <td>0.005646</td>\n",
              "      <td>-0.003511</td>\n",
              "      <td>0.011463</td>\n",
              "    </tr>\n",
              "    <tr>\n",
              "      <th>star</th>\n",
              "      <td>0.006472</td>\n",
              "      <td>0.013405</td>\n",
              "      <td>-0.005477</td>\n",
              "      <td>0.015777</td>\n",
              "      <td>-0.001609</td>\n",
              "      <td>-0.019282</td>\n",
              "      <td>0.039234</td>\n",
              "      <td>0.027245</td>\n",
              "      <td>1.000000</td>\n",
              "      <td>-0.012998</td>\n",
              "      <td>-0.019952</td>\n",
              "      <td>-0.001129</td>\n",
              "      <td>0.012442</td>\n",
              "      <td>0.010174</td>\n",
              "      <td>0.016025</td>\n",
              "    </tr>\n",
              "    <tr>\n",
              "      <th>country</th>\n",
              "      <td>-0.010737</td>\n",
              "      <td>0.081244</td>\n",
              "      <td>-0.037615</td>\n",
              "      <td>-0.020427</td>\n",
              "      <td>-0.133348</td>\n",
              "      <td>0.073625</td>\n",
              "      <td>0.017490</td>\n",
              "      <td>0.015343</td>\n",
              "      <td>-0.012998</td>\n",
              "      <td>1.000000</td>\n",
              "      <td>0.131720</td>\n",
              "      <td>0.095325</td>\n",
              "      <td>0.095548</td>\n",
              "      <td>-0.078412</td>\n",
              "      <td>0.045654</td>\n",
              "    </tr>\n",
              "    <tr>\n",
              "      <th>budget</th>\n",
              "      <td>0.020548</td>\n",
              "      <td>-0.081939</td>\n",
              "      <td>-0.334021</td>\n",
              "      <td>0.009145</td>\n",
              "      <td>0.055665</td>\n",
              "      <td>0.486862</td>\n",
              "      <td>0.004976</td>\n",
              "      <td>-0.025911</td>\n",
              "      <td>-0.019952</td>\n",
              "      <td>0.131720</td>\n",
              "      <td>1.000000</td>\n",
              "      <td>0.750157</td>\n",
              "      <td>0.186474</td>\n",
              "      <td>0.269510</td>\n",
              "      <td>0.073969</td>\n",
              "    </tr>\n",
              "    <tr>\n",
              "      <th>gross</th>\n",
              "      <td>0.006989</td>\n",
              "      <td>-0.095450</td>\n",
              "      <td>-0.234297</td>\n",
              "      <td>0.000519</td>\n",
              "      <td>0.186392</td>\n",
              "      <td>0.632834</td>\n",
              "      <td>-0.014916</td>\n",
              "      <td>-0.022997</td>\n",
              "      <td>-0.001129</td>\n",
              "      <td>0.095325</td>\n",
              "      <td>0.750157</td>\n",
              "      <td>1.000000</td>\n",
              "      <td>0.156745</td>\n",
              "      <td>0.245235</td>\n",
              "      <td>0.056556</td>\n",
              "    </tr>\n",
              "    <tr>\n",
              "      <th>company</th>\n",
              "      <td>0.009211</td>\n",
              "      <td>-0.032943</td>\n",
              "      <td>-0.071067</td>\n",
              "      <td>-0.010474</td>\n",
              "      <td>0.001030</td>\n",
              "      <td>0.133204</td>\n",
              "      <td>0.004404</td>\n",
              "      <td>0.005646</td>\n",
              "      <td>0.012442</td>\n",
              "      <td>0.095548</td>\n",
              "      <td>0.186474</td>\n",
              "      <td>0.156745</td>\n",
              "      <td>1.000000</td>\n",
              "      <td>0.034402</td>\n",
              "      <td>0.051730</td>\n",
              "    </tr>\n",
              "    <tr>\n",
              "      <th>runtime</th>\n",
              "      <td>0.010392</td>\n",
              "      <td>0.062145</td>\n",
              "      <td>-0.052711</td>\n",
              "      <td>0.000868</td>\n",
              "      <td>0.399451</td>\n",
              "      <td>0.309212</td>\n",
              "      <td>0.017624</td>\n",
              "      <td>-0.003511</td>\n",
              "      <td>0.010174</td>\n",
              "      <td>-0.078412</td>\n",
              "      <td>0.269510</td>\n",
              "      <td>0.245235</td>\n",
              "      <td>0.034402</td>\n",
              "      <td>1.000000</td>\n",
              "      <td>0.027707</td>\n",
              "    </tr>\n",
              "    <tr>\n",
              "      <th>year_correct</th>\n",
              "      <td>-0.009264</td>\n",
              "      <td>-0.013129</td>\n",
              "      <td>-0.061689</td>\n",
              "      <td>0.026875</td>\n",
              "      <td>0.001653</td>\n",
              "      <td>0.056070</td>\n",
              "      <td>0.010682</td>\n",
              "      <td>0.011463</td>\n",
              "      <td>0.016025</td>\n",
              "      <td>0.045654</td>\n",
              "      <td>0.073969</td>\n",
              "      <td>0.056556</td>\n",
              "      <td>0.051730</td>\n",
              "      <td>0.027707</td>\n",
              "      <td>1.000000</td>\n",
              "    </tr>\n",
              "  </tbody>\n",
              "</table>\n",
              "</div>"
            ],
            "text/plain": [
              "                  name    rating     genre  ...   company   runtime  year_correct\n",
              "name          1.000000 -0.008069  0.016355  ...  0.009211  0.010392     -0.009264\n",
              "rating       -0.008069  1.000000  0.072423  ... -0.032943  0.062145     -0.013129\n",
              "genre         0.016355  0.072423  1.000000  ... -0.071067 -0.052711     -0.061689\n",
              "released     -0.011311  0.016613  0.029822  ... -0.010474  0.000868      0.026875\n",
              "score         0.017097 -0.001314  0.027965  ...  0.001030  0.399451      0.001653\n",
              "votes         0.013088  0.033225 -0.145307  ...  0.133204  0.309212      0.056070\n",
              "director      0.009079  0.019483 -0.015258  ...  0.004404  0.017624      0.010682\n",
              "writer        0.009081 -0.005921  0.006567  ...  0.005646 -0.003511      0.011463\n",
              "star          0.006472  0.013405 -0.005477  ...  0.012442  0.010174      0.016025\n",
              "country      -0.010737  0.081244 -0.037615  ...  0.095548 -0.078412      0.045654\n",
              "budget        0.020548 -0.081939 -0.334021  ...  0.186474  0.269510      0.073969\n",
              "gross         0.006989 -0.095450 -0.234297  ...  0.156745  0.245235      0.056556\n",
              "company       0.009211 -0.032943 -0.071067  ...  1.000000  0.034402      0.051730\n",
              "runtime       0.010392  0.062145 -0.052711  ...  0.034402  1.000000      0.027707\n",
              "year_correct -0.009264 -0.013129 -0.061689  ...  0.051730  0.027707      1.000000\n",
              "\n",
              "[15 rows x 15 columns]"
            ]
          },
          "metadata": {},
          "execution_count": 57
        }
      ]
    },
    {
      "cell_type": "code",
      "metadata": {
        "colab": {
          "base_uri": "https://localhost:8080/"
        },
        "id": "s-3VmKxtn8rp",
        "outputId": "33fa2471-82b9-41f9-fe40-e299602c5b34"
      },
      "source": [
        "# Look at the correlation more spesific\n",
        "\n",
        "pd.set_option('display.max_rows', None)\n",
        "\n",
        "corr_mat = df_numerized.corr()\n",
        "corr_pairs = corr_mat.unstack()\n",
        "corr_pairs.head()"
      ],
      "execution_count": 66,
      "outputs": [
        {
          "output_type": "execute_result",
          "data": {
            "text/plain": [
              "name  name        1.000000\n",
              "      rating     -0.008069\n",
              "      genre       0.016355\n",
              "      released   -0.011311\n",
              "      score       0.017097\n",
              "dtype: float64"
            ]
          },
          "metadata": {},
          "execution_count": 66
        }
      ]
    },
    {
      "cell_type": "code",
      "metadata": {
        "colab": {
          "base_uri": "https://localhost:8080/"
        },
        "id": "hOEGsGnHoX2Z",
        "outputId": "40866921-c84a-4ecb-ce87-108cbfb4bcbd"
      },
      "source": [
        "# sorted it\n",
        "sorted_pairs = corr_pairs.sort_values()\n",
        "sorted_pairs"
      ],
      "execution_count": 65,
      "outputs": [
        {
          "output_type": "execute_result",
          "data": {
            "text/plain": [
              "budget        genre          -0.334021\n",
              "genre         budget         -0.334021\n",
              "              gross          -0.234297\n",
              "gross         genre          -0.234297\n",
              "genre         votes          -0.145307\n",
              "votes         genre          -0.145307\n",
              "country       score          -0.133348\n",
              "score         country        -0.133348\n",
              "rating        gross          -0.095450\n",
              "gross         rating         -0.095450\n",
              "rating        budget         -0.081939\n",
              "budget        rating         -0.081939\n",
              "country       runtime        -0.078412\n",
              "runtime       country        -0.078412\n",
              "genre         company        -0.071067\n",
              "company       genre          -0.071067\n",
              "year_correct  genre          -0.061689\n",
              "genre         year_correct   -0.061689\n",
              "runtime       genre          -0.052711\n",
              "genre         runtime        -0.052711\n",
              "country       genre          -0.037615\n",
              "genre         country        -0.037615\n",
              "company       rating         -0.032943\n",
              "rating        company        -0.032943\n",
              "writer        budget         -0.025911\n",
              "budget        writer         -0.025911\n",
              "writer        gross          -0.022997\n",
              "gross         writer         -0.022997\n",
              "country       released       -0.020427\n",
              "released      country        -0.020427\n",
              "budget        star           -0.019952\n",
              "star          budget         -0.019952\n",
              "              votes          -0.019282\n",
              "votes         star           -0.019282\n",
              "director      genre          -0.015258\n",
              "genre         director       -0.015258\n",
              "gross         director       -0.014916\n",
              "director      gross          -0.014916\n",
              "year_correct  rating         -0.013129\n",
              "rating        year_correct   -0.013129\n",
              "star          country        -0.012998\n",
              "country       star           -0.012998\n",
              "name          released       -0.011311\n",
              "released      name           -0.011311\n",
              "name          country        -0.010737\n",
              "country       name           -0.010737\n",
              "company       released       -0.010474\n",
              "released      company        -0.010474\n",
              "year_correct  name           -0.009264\n",
              "name          year_correct   -0.009264\n",
              "              rating         -0.008069\n",
              "rating        name           -0.008069\n",
              "writer        rating         -0.005921\n",
              "rating        writer         -0.005921\n",
              "genre         star           -0.005477\n",
              "star          genre          -0.005477\n",
              "runtime       writer         -0.003511\n",
              "writer        runtime        -0.003511\n",
              "              released       -0.002404\n",
              "released      writer         -0.002404\n",
              "score         star           -0.001609\n",
              "star          score          -0.001609\n",
              "director      released       -0.001478\n",
              "released      director       -0.001478\n",
              "rating        score          -0.001314\n",
              "score         rating         -0.001314\n",
              "gross         star           -0.001129\n",
              "star          gross          -0.001129\n",
              "director      votes           0.000260\n",
              "votes         director        0.000260\n",
              "gross         released        0.000519\n",
              "released      gross           0.000519\n",
              "              runtime         0.000868\n",
              "runtime       released        0.000868\n",
              "votes         writer          0.000892\n",
              "writer        votes           0.000892\n",
              "company       score           0.001030\n",
              "score         company         0.001030\n",
              "year_correct  score           0.001653\n",
              "score         year_correct    0.001653\n",
              "company       director        0.004404\n",
              "director      company         0.004404\n",
              "budget        director        0.004976\n",
              "director      budget          0.004976\n",
              "writer        company         0.005646\n",
              "company       writer          0.005646\n",
              "star          name            0.006472\n",
              "name          star            0.006472\n",
              "writer        genre           0.006567\n",
              "genre         writer          0.006567\n",
              "name          gross           0.006989\n",
              "gross         name            0.006989\n",
              "name          director        0.009079\n",
              "director      name            0.009079\n",
              "writer        name            0.009081\n",
              "name          writer          0.009081\n",
              "released      budget          0.009145\n",
              "budget        released        0.009145\n",
              "company       name            0.009211\n",
              "name          company         0.009211\n",
              "director      score           0.009559\n",
              "score         director        0.009559\n",
              "star          runtime         0.010174\n",
              "runtime       star            0.010174\n",
              "name          runtime         0.010392\n",
              "runtime       name            0.010392\n",
              "director      year_correct    0.010682\n",
              "year_correct  director        0.010682\n",
              "              writer          0.011463\n",
              "writer        year_correct    0.011463\n",
              "company       star            0.012442\n",
              "star          company         0.012442\n",
              "name          votes           0.013088\n",
              "votes         name            0.013088\n",
              "rating        star            0.013405\n",
              "star          rating          0.013405\n",
              "writer        country         0.015343\n",
              "country       writer          0.015343\n",
              "star          released        0.015777\n",
              "released      star            0.015777\n",
              "star          year_correct    0.016025\n",
              "year_correct  star            0.016025\n",
              "released      votes           0.016097\n",
              "votes         released        0.016097\n",
              "genre         name            0.016355\n",
              "name          genre           0.016355\n",
              "rating        released        0.016613\n",
              "released      rating          0.016613\n",
              "score         name            0.017097\n",
              "name          score           0.017097\n",
              "director      country         0.017490\n",
              "country       director        0.017490\n",
              "runtime       director        0.017624\n",
              "director      runtime         0.017624\n",
              "writer        score           0.019416\n",
              "score         writer          0.019416\n",
              "director      rating          0.019483\n",
              "rating        director        0.019483\n",
              "budget        name            0.020548\n",
              "name          budget          0.020548\n",
              "released      year_correct    0.026875\n",
              "year_correct  released        0.026875\n",
              "star          writer          0.027245\n",
              "writer        star            0.027245\n",
              "year_correct  runtime         0.027707\n",
              "runtime       year_correct    0.027707\n",
              "genre         score           0.027965\n",
              "score         genre           0.027965\n",
              "genre         released        0.029822\n",
              "released      genre           0.029822\n",
              "votes         rating          0.033225\n",
              "rating        votes           0.033225\n",
              "company       runtime         0.034402\n",
              "runtime       company         0.034402\n",
              "star          director        0.039234\n",
              "director      star            0.039234\n",
              "released      score           0.042788\n",
              "score         released        0.042788\n",
              "year_correct  country         0.045654\n",
              "country       year_correct    0.045654\n",
              "company       year_correct    0.051730\n",
              "year_correct  company         0.051730\n",
              "budget        score           0.055665\n",
              "score         budget          0.055665\n",
              "votes         year_correct    0.056070\n",
              "year_correct  votes           0.056070\n",
              "              gross           0.056556\n",
              "gross         year_correct    0.056556\n",
              "runtime       rating          0.062145\n",
              "rating        runtime         0.062145\n",
              "              genre           0.072423\n",
              "genre         rating          0.072423\n",
              "votes         country         0.073625\n",
              "country       votes           0.073625\n",
              "budget        year_correct    0.073969\n",
              "year_correct  budget          0.073969\n",
              "rating        country         0.081244\n",
              "country       rating          0.081244\n",
              "gross         country         0.095325\n",
              "country       gross           0.095325\n",
              "company       country         0.095548\n",
              "country       company         0.095548\n",
              "budget        country         0.131720\n",
              "country       budget          0.131720\n",
              "company       votes           0.133204\n",
              "votes         company         0.133204\n",
              "company       gross           0.156745\n",
              "gross         company         0.156745\n",
              "              score           0.186392\n",
              "score         gross           0.186392\n",
              "budget        company         0.186474\n",
              "company       budget          0.186474\n",
              "gross         runtime         0.245235\n",
              "runtime       gross           0.245235\n",
              "              budget          0.269510\n",
              "budget        runtime         0.269510\n",
              "director      writer          0.299067\n",
              "writer        director        0.299067\n",
              "votes         runtime         0.309212\n",
              "runtime       votes           0.309212\n",
              "score         runtime         0.399451\n",
              "runtime       score           0.399451\n",
              "score         votes           0.409182\n",
              "votes         score           0.409182\n",
              "budget        votes           0.486862\n",
              "votes         budget          0.486862\n",
              "gross         votes           0.632834\n",
              "votes         gross           0.632834\n",
              "gross         budget          0.750157\n",
              "budget        gross           0.750157\n",
              "name          name            1.000000\n",
              "writer        writer          1.000000\n",
              "company       company         1.000000\n",
              "gross         gross           1.000000\n",
              "budget        budget          1.000000\n",
              "country       country         1.000000\n",
              "star          star            1.000000\n",
              "director      director        1.000000\n",
              "votes         votes           1.000000\n",
              "score         score           1.000000\n",
              "released      released        1.000000\n",
              "genre         genre           1.000000\n",
              "rating        rating          1.000000\n",
              "runtime       runtime         1.000000\n",
              "year_correct  year_correct    1.000000\n",
              "dtype: float64"
            ]
          },
          "metadata": {},
          "execution_count": 65
        }
      ]
    },
    {
      "cell_type": "code",
      "metadata": {
        "colab": {
          "base_uri": "https://localhost:8080/"
        },
        "id": "c4sVx5C4oqK6",
        "outputId": "7754e31b-0199-460f-e58f-a649f64ba362"
      },
      "source": [
        "# Only colum that have high correlation\n",
        "high_corr = sorted_pairs[(sorted_pairs) > 0.5]\n",
        "high_corr"
      ],
      "execution_count": 63,
      "outputs": [
        {
          "output_type": "execute_result",
          "data": {
            "text/plain": [
              "gross         votes           0.632834\n",
              "votes         gross           0.632834\n",
              "gross         budget          0.750157\n",
              "budget        gross           0.750157\n",
              "name          name            1.000000\n",
              "writer        writer          1.000000\n",
              "company       company         1.000000\n",
              "gross         gross           1.000000\n",
              "budget        budget          1.000000\n",
              "country       country         1.000000\n",
              "star          star            1.000000\n",
              "director      director        1.000000\n",
              "votes         votes           1.000000\n",
              "score         score           1.000000\n",
              "released      released        1.000000\n",
              "genre         genre           1.000000\n",
              "rating        rating          1.000000\n",
              "runtime       runtime         1.000000\n",
              "year_correct  year_correct    1.000000\n",
              "dtype: float64"
            ]
          },
          "metadata": {},
          "execution_count": 63
        }
      ]
    },
    {
      "cell_type": "markdown",
      "metadata": {
        "id": "Mt1hhdGZpRUp"
      },
      "source": [
        "=> So, our hypothesis, budget and company have  high correlation toward gross has the right and wrong\n",
        "\n",
        "=> Turns out the high correlation also happen between votes and gross\n",
        "\n",
        "=> But the company and gross has lower correlation"
      ]
    },
    {
      "cell_type": "code",
      "metadata": {
        "id": "ZhAqHx5V4w_r"
      },
      "source": [
        "# display(df.head(2))\n",
        "\n",
        "# print(df[['budget', 'gross']].info())"
      ],
      "execution_count": null,
      "outputs": []
    }
  ]
}